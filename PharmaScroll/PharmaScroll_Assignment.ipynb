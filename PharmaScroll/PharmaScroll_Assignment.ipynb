{
 "cells": [
  {
   "cell_type": "code",
   "execution_count": 2,
   "id": "d39dc00f",
   "metadata": {},
   "outputs": [],
   "source": [
    "import pandas as pd\n",
    "import requests\n",
    "from bs4 import BeautifulSoup"
   ]
  },
  {
   "cell_type": "code",
   "execution_count": 3,
   "id": "3babccd9",
   "metadata": {},
   "outputs": [],
   "source": [
    "data = pd.read_excel(\"Name.xlsx\")"
   ]
  },
  {
   "cell_type": "code",
   "execution_count": 4,
   "id": "cfa35f2c",
   "metadata": {},
   "outputs": [],
   "source": [
    "search_terms = data[\"Name\"]"
   ]
  },
  {
   "cell_type": "code",
   "execution_count": 5,
   "id": "36374e9f",
   "metadata": {},
   "outputs": [
    {
     "data": {
      "text/plain": [
       "0          Aaron Logan\n",
       "1         Aaron Tobian\n",
       "2         Aaron Waxman\n",
       "3        Aaron Goodman\n",
       "4      Aaron Mansfield\n",
       "            ...       \n",
       "291        Jerry Bagel\n",
       "292         Patrick Ma\n",
       "293       Paul Chapman\n",
       "294       Paul Lorigan\n",
       "295         John Stone\n",
       "Name: Name, Length: 296, dtype: object"
      ]
     },
     "execution_count": 5,
     "metadata": {},
     "output_type": "execute_result"
    }
   ],
   "source": [
    "search_terms"
   ]
  },
  {
   "cell_type": "code",
   "execution_count": 6,
   "id": "1751b4c8",
   "metadata": {},
   "outputs": [],
   "source": [
    "# Define the URL of the website\n",
    "url = 'https://search.medscape.com/search/'"
   ]
  },
  {
   "cell_type": "code",
   "execution_count": 8,
   "id": "bf2ec3ac",
   "metadata": {},
   "outputs": [
    {
     "name": "stderr",
     "output_type": "stream",
     "text": [
      "C:\\Users\\My Notebook\\AppData\\Local\\Temp\\ipykernel_19604\\2366228004.py:3: DeprecationWarning: executable_path has been deprecated, please pass in a Service object\n",
      "  d = webdriver.Chrome('/path/to/chromedriver')\n"
     ]
    },
    {
     "ename": "ElementNotInteractableException",
     "evalue": "Message: element not interactable\n  (Session info: chrome=110.0.5481.97)\nStacktrace:\nBacktrace:\n\t(No symbol) [0x005237D3]\n\t(No symbol) [0x004B8B81]\n\t(No symbol) [0x003BB230]\n\t(No symbol) [0x003E8586]\n\t(No symbol) [0x003E76A7]\n\t(No symbol) [0x0040B41C]\n\t(No symbol) [0x003E2B96]\n\t(No symbol) [0x0040B774]\n\t(No symbol) [0x00421215]\n\t(No symbol) [0x0040B216]\n\t(No symbol) [0x003E0D97]\n\t(No symbol) [0x003E253D]\n\tGetHandleVerifier [0x0079ABF2+2510930]\n\tGetHandleVerifier [0x007C8EC1+2700065]\n\tGetHandleVerifier [0x007CC86C+2714828]\n\tGetHandleVerifier [0x005D3480+645344]\n\t(No symbol) [0x004C0FD2]\n\t(No symbol) [0x004C6C68]\n\t(No symbol) [0x004C6D4B]\n\t(No symbol) [0x004D0D6B]\n\tBaseThreadInitThunk [0x75627D69+25]\n\tRtlInitializeExceptionChain [0x76F6BB9B+107]\n\tRtlClearBits [0x76F6BB1F+191]\n",
     "output_type": "error",
     "traceback": [
      "\u001b[1;31m---------------------------------------------------------------------------\u001b[0m",
      "\u001b[1;31mElementNotInteractableException\u001b[0m           Traceback (most recent call last)",
      "\u001b[1;32mc:\\Users\\My Notebook\\Desktop\\Projects\\PharmaScroll\\PharmaScroll_Assignment.ipynb Cell 6\u001b[0m in \u001b[0;36m<cell line: 5>\u001b[1;34m()\u001b[0m\n\u001b[0;32m      <a href='vscode-notebook-cell:/c%3A/Users/My%20Notebook/Desktop/Projects/PharmaScroll/PharmaScroll_Assignment.ipynb#W5sZmlsZQ%3D%3D?line=5'>6</a>\u001b[0m d\u001b[39m.\u001b[39mget(url)\n\u001b[0;32m      <a href='vscode-notebook-cell:/c%3A/Users/My%20Notebook/Desktop/Projects/PharmaScroll/PharmaScroll_Assignment.ipynb#W5sZmlsZQ%3D%3D?line=6'>7</a>\u001b[0m e \u001b[39m=\u001b[39m d\u001b[39m.\u001b[39mfind_element(\u001b[39m'\u001b[39m\u001b[39mname\u001b[39m\u001b[39m'\u001b[39m,\u001b[39m'\u001b[39m\u001b[39mq\u001b[39m\u001b[39m'\u001b[39m)\n\u001b[1;32m----> <a href='vscode-notebook-cell:/c%3A/Users/My%20Notebook/Desktop/Projects/PharmaScroll/PharmaScroll_Assignment.ipynb#W5sZmlsZQ%3D%3D?line=7'>8</a>\u001b[0m e\u001b[39m.\u001b[39;49msend_keys(content)\n\u001b[0;32m      <a href='vscode-notebook-cell:/c%3A/Users/My%20Notebook/Desktop/Projects/PharmaScroll/PharmaScroll_Assignment.ipynb#W5sZmlsZQ%3D%3D?line=8'>9</a>\u001b[0m e\u001b[39m.\u001b[39msubmit()\n",
      "File \u001b[1;32mc:\\Users\\My Notebook\\AppData\\Local\\Programs\\Python\\Python310\\lib\\site-packages\\selenium\\webdriver\\remote\\webelement.py:230\u001b[0m, in \u001b[0;36mWebElement.send_keys\u001b[1;34m(self, *value)\u001b[0m\n\u001b[0;32m    227\u001b[0m             remote_files\u001b[39m.\u001b[39mappend(\u001b[39mself\u001b[39m\u001b[39m.\u001b[39m_upload(file))\n\u001b[0;32m    228\u001b[0m         value \u001b[39m=\u001b[39m \u001b[39m\"\u001b[39m\u001b[39m\\n\u001b[39;00m\u001b[39m\"\u001b[39m\u001b[39m.\u001b[39mjoin(remote_files)\n\u001b[1;32m--> 230\u001b[0m \u001b[39mself\u001b[39;49m\u001b[39m.\u001b[39;49m_execute(\n\u001b[0;32m    231\u001b[0m     Command\u001b[39m.\u001b[39;49mSEND_KEYS_TO_ELEMENT, {\u001b[39m\"\u001b[39;49m\u001b[39mtext\u001b[39;49m\u001b[39m\"\u001b[39;49m: \u001b[39m\"\u001b[39;49m\u001b[39m\"\u001b[39;49m\u001b[39m.\u001b[39;49mjoin(keys_to_typing(value)), \u001b[39m\"\u001b[39;49m\u001b[39mvalue\u001b[39;49m\u001b[39m\"\u001b[39;49m: keys_to_typing(value)}\n\u001b[0;32m    232\u001b[0m )\n",
      "File \u001b[1;32mc:\\Users\\My Notebook\\AppData\\Local\\Programs\\Python\\Python310\\lib\\site-packages\\selenium\\webdriver\\remote\\webelement.py:403\u001b[0m, in \u001b[0;36mWebElement._execute\u001b[1;34m(self, command, params)\u001b[0m\n\u001b[0;32m    401\u001b[0m     params \u001b[39m=\u001b[39m {}\n\u001b[0;32m    402\u001b[0m params[\u001b[39m\"\u001b[39m\u001b[39mid\u001b[39m\u001b[39m\"\u001b[39m] \u001b[39m=\u001b[39m \u001b[39mself\u001b[39m\u001b[39m.\u001b[39m_id\n\u001b[1;32m--> 403\u001b[0m \u001b[39mreturn\u001b[39;00m \u001b[39mself\u001b[39;49m\u001b[39m.\u001b[39;49m_parent\u001b[39m.\u001b[39;49mexecute(command, params)\n",
      "File \u001b[1;32mc:\\Users\\My Notebook\\AppData\\Local\\Programs\\Python\\Python310\\lib\\site-packages\\selenium\\webdriver\\remote\\webdriver.py:440\u001b[0m, in \u001b[0;36mWebDriver.execute\u001b[1;34m(self, driver_command, params)\u001b[0m\n\u001b[0;32m    438\u001b[0m response \u001b[39m=\u001b[39m \u001b[39mself\u001b[39m\u001b[39m.\u001b[39mcommand_executor\u001b[39m.\u001b[39mexecute(driver_command, params)\n\u001b[0;32m    439\u001b[0m \u001b[39mif\u001b[39;00m response:\n\u001b[1;32m--> 440\u001b[0m     \u001b[39mself\u001b[39;49m\u001b[39m.\u001b[39;49merror_handler\u001b[39m.\u001b[39;49mcheck_response(response)\n\u001b[0;32m    441\u001b[0m     response[\u001b[39m\"\u001b[39m\u001b[39mvalue\u001b[39m\u001b[39m\"\u001b[39m] \u001b[39m=\u001b[39m \u001b[39mself\u001b[39m\u001b[39m.\u001b[39m_unwrap_value(response\u001b[39m.\u001b[39mget(\u001b[39m\"\u001b[39m\u001b[39mvalue\u001b[39m\u001b[39m\"\u001b[39m, \u001b[39mNone\u001b[39;00m))\n\u001b[0;32m    442\u001b[0m     \u001b[39mreturn\u001b[39;00m response\n",
      "File \u001b[1;32mc:\\Users\\My Notebook\\AppData\\Local\\Programs\\Python\\Python310\\lib\\site-packages\\selenium\\webdriver\\remote\\errorhandler.py:245\u001b[0m, in \u001b[0;36mErrorHandler.check_response\u001b[1;34m(self, response)\u001b[0m\n\u001b[0;32m    243\u001b[0m         alert_text \u001b[39m=\u001b[39m value[\u001b[39m\"\u001b[39m\u001b[39malert\u001b[39m\u001b[39m\"\u001b[39m]\u001b[39m.\u001b[39mget(\u001b[39m\"\u001b[39m\u001b[39mtext\u001b[39m\u001b[39m\"\u001b[39m)\n\u001b[0;32m    244\u001b[0m     \u001b[39mraise\u001b[39;00m exception_class(message, screen, stacktrace, alert_text)  \u001b[39m# type: ignore[call-arg]  # mypy is not smart enough here\u001b[39;00m\n\u001b[1;32m--> 245\u001b[0m \u001b[39mraise\u001b[39;00m exception_class(message, screen, stacktrace)\n",
      "\u001b[1;31mElementNotInteractableException\u001b[0m: Message: element not interactable\n  (Session info: chrome=110.0.5481.97)\nStacktrace:\nBacktrace:\n\t(No symbol) [0x005237D3]\n\t(No symbol) [0x004B8B81]\n\t(No symbol) [0x003BB230]\n\t(No symbol) [0x003E8586]\n\t(No symbol) [0x003E76A7]\n\t(No symbol) [0x0040B41C]\n\t(No symbol) [0x003E2B96]\n\t(No symbol) [0x0040B774]\n\t(No symbol) [0x00421215]\n\t(No symbol) [0x0040B216]\n\t(No symbol) [0x003E0D97]\n\t(No symbol) [0x003E253D]\n\tGetHandleVerifier [0x0079ABF2+2510930]\n\tGetHandleVerifier [0x007C8EC1+2700065]\n\tGetHandleVerifier [0x007CC86C+2714828]\n\tGetHandleVerifier [0x005D3480+645344]\n\t(No symbol) [0x004C0FD2]\n\t(No symbol) [0x004C6C68]\n\t(No symbol) [0x004C6D4B]\n\t(No symbol) [0x004D0D6B]\n\tBaseThreadInitThunk [0x75627D69+25]\n\tRtlInitializeExceptionChain [0x76F6BB9B+107]\n\tRtlClearBits [0x76F6BB1F+191]\n"
     ]
    }
   ],
   "source": [
    "from selenium import webdriver\n",
    "from selenium.webdriver.common.keys import Keys\n",
    "d = webdriver.Chrome('/path/to/chromedriver')\n",
    "\n",
    "for content in search_terms:\n",
    "  d.get(url)\n",
    "  e = d.find_element('name','q')\n",
    "  e.send_keys(content)\n",
    "  e.submit()"
   ]
  },
  {
   "cell_type": "code",
   "execution_count": 63,
   "id": "43c64dfd",
   "metadata": {},
   "outputs": [
    {
     "data": {
      "text/plain": [
       "<Response [200]>"
      ]
     },
     "execution_count": 63,
     "metadata": {},
     "output_type": "execute_result"
    }
   ],
   "source": [
    "response"
   ]
  },
  {
   "cell_type": "code",
   "execution_count": 65,
   "id": "21cdb9d1",
   "metadata": {},
   "outputs": [],
   "source": [
    "search_bar.value"
   ]
  },
  {
   "cell_type": "code",
   "execution_count": null,
   "id": "1155a162",
   "metadata": {},
   "outputs": [],
   "source": []
  }
 ],
 "metadata": {
  "kernelspec": {
   "display_name": "Python 3",
   "language": "python",
   "name": "python3"
  },
  "language_info": {
   "codemirror_mode": {
    "name": "ipython",
    "version": 3
   },
   "file_extension": ".py",
   "mimetype": "text/x-python",
   "name": "python",
   "nbconvert_exporter": "python",
   "pygments_lexer": "ipython3",
   "version": "3.10.7"
  },
  "vscode": {
   "interpreter": {
    "hash": "faa25241c179e30525433132b6aa9753c540a6a9a1dbeaaf6208a72d2a6f697e"
   }
  }
 },
 "nbformat": 4,
 "nbformat_minor": 5
}
